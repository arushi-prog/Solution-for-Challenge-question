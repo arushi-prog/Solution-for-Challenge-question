{
  "nbformat": 4,
  "nbformat_minor": 0,
  "metadata": {
    "colab": {
      "provenance": [],
      "authorship_tag": "ABX9TyNnqSh7bwHIrcNeBOs1QahM",
      "include_colab_link": true
    },
    "kernelspec": {
      "name": "python3",
      "display_name": "Python 3"
    },
    "language_info": {
      "name": "python"
    }
  },
  "cells": [
    {
      "cell_type": "markdown",
      "metadata": {
        "id": "view-in-github",
        "colab_type": "text"
      },
      "source": [
        "<a href=\"https://colab.research.google.com/github/arushi-prog/Solution-for-Challenge-question/blob/main/ChallengeQuesSol.ipynb\" target=\"_parent\"><img src=\"https://colab.research.google.com/assets/colab-badge.svg\" alt=\"Open In Colab\"/></a>"
      ]
    },
    {
      "cell_type": "code",
      "execution_count": 4,
      "metadata": {
        "colab": {
          "base_uri": "https://localhost:8080/"
        },
        "id": "sed3QVl3nfS0",
        "outputId": "0ae96533-4f01-4558-e37a-baf7d929ea58"
      },
      "outputs": [
        {
          "output_type": "stream",
          "name": "stdout",
          "text": [
            "['Ram', 1, 'Shyam', 2, 'Aman', 3]\n",
            "The list after sorting ->  [1, 2, 3, 'Aman', 'Ram', 'Shyam']\n"
          ]
        }
      ],
      "source": [
        "L = [\"Ram\",1,\"Shyam\",2,\"Aman\",3]\n",
        "print (L)\n",
        "# L.sort() #this will give an error\n",
        "# print (L)\n",
        "\n",
        "# To rectify the error\n",
        "L1 = []\n",
        "L2 = []\n",
        "\n",
        "for i in L:\n",
        "  try:\n",
        "    L1.append(int(i))\n",
        "  except:\n",
        "    L2.append(i)\n",
        "\n",
        "L1.sort()\n",
        "L2.sort()\n",
        "print (\"The list after sorting -> \",L1+L2)"
      ]
    },
    {
      "cell_type": "code",
      "source": [
        "# Another alternative\n",
        "L = [\"Ram\",1,\"Shyam\",2,\"Aman\",3]\n",
        "print (L)\n",
        "L=[str(i) for i in L]\n",
        "L.sort()\n",
        "print (\"The list after sorting > \",L)"
      ],
      "metadata": {
        "colab": {
          "base_uri": "https://localhost:8080/"
        },
        "id": "qpHQ5QrzpMSv",
        "outputId": "084f152d-7e48-4ad6-faf3-961a7d536969"
      },
      "execution_count": 5,
      "outputs": [
        {
          "output_type": "stream",
          "name": "stdout",
          "text": [
            "['Ram', 1, 'Shyam', 2, 'Aman', 3]\n",
            "The list after sorting >  ['1', '2', '3', 'Aman', 'Ram', 'Shyam']\n"
          ]
        }
      ]
    }
  ]
}